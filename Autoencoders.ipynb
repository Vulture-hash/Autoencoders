{
  "cells": [
    {
      "cell_type": "markdown",
      "metadata": {
        "id": "view-in-github",
        "colab_type": "text"
      },
      "source": [
        "<a href=\"https://colab.research.google.com/github/Vulture-hash/Autoencoders/blob/main/Autoencoders.ipynb\" target=\"_parent\"><img src=\"https://colab.research.google.com/assets/colab-badge.svg\" alt=\"Open In Colab\"/></a>"
      ]
    },
    {
      "cell_type": "markdown",
      "metadata": {
        "id": "B-tYz2C7VdHv"
      },
      "source": [
        "Data Preprocessing"
      ]
    },
    {
      "cell_type": "code",
      "execution_count": null,
      "metadata": {
        "id": "ekp-k5jSTrKB"
      },
      "outputs": [],
      "source": [
        "import numpy as np\n",
        "from tensorflow.keras.datasets import mnist\n",
        "\n",
        "(X_train, _), (X_test, _) = mnist.load_data()\n",
        "\n",
        "#Normalize\n",
        "x_train = X_train.astype('float32')/255.\n",
        "x_test = X_test.astype('float32')/255.\n",
        "\n",
        "#Flatten\n",
        "x_train = x_train.reshape((len(x_train), np.prod(x_train.shape[1:])))\n",
        "x_test = x_test.reshape((len(x_test), np.prod(x_test.shape[1:])))"
      ]
    },
    {
      "cell_type": "markdown",
      "source": [
        "**Vanilla Autoencoder**"
      ],
      "metadata": {
        "id": "q5zVDn3hf8KN"
      }
    },
    {
      "cell_type": "code",
      "execution_count": 11,
      "metadata": {
        "id": "DW-szBmkVoLq"
      },
      "outputs": [],
      "source": [
        "from tensorflow.keras.models import Model\n",
        "from tensorflow.keras.layers import Dense, Input\n",
        "\n",
        "#Encoder\n",
        "input_layer = Input(shape=(784, ))\n",
        "encoder = Dense(64, activation='relu')(input_layer)\n",
        "\n",
        "#Bottleneck\n",
        "bottleneck = Dense(32, activation='relu')(encoder)\n",
        "\n",
        "#Decoder\n",
        "decoder = Dense(64, activation='relu')(bottleneck)\n",
        "output_layer= Dense(784, activation='relu')(decoder)\n",
        "\n",
        "autoencoder = Model(input_layer, output_layer)\n",
        "\n",
        "autoencoder.compile(optimizer='adam', loss='binary_crossentropy')\n",
        "\n",
        "autoencoder.summary()"
      ]
    },
    {
      "cell_type": "code",
      "execution_count": 12,
      "metadata": {
        "id": "Bc-GCBK8dau4"
      },
      "outputs": [],
      "source": [
        "autoencoder.fit(\n",
        "    x_train, x_train,\n",
        "    epochs=25,\n",
        "    batch_size=256,\n",
        "    shuffle=True,\n",
        "    validation_data=(x_test, x_test)\n",
        ")"
      ]
    },
    {
      "cell_type": "markdown",
      "source": [
        "**Visualizing**"
      ],
      "metadata": {
        "id": "lKQ24KfFgEq9"
      }
    },
    {
      "cell_type": "code",
      "execution_count": 15,
      "metadata": {
        "id": "_MZdfQdbfclW"
      },
      "outputs": [],
      "source": [
        "import matplotlib.pyplot as plt\n",
        "reconstructed = autoencoder.predict(x_test)\n",
        "\n",
        "n = 10\n",
        "plt.figure(figsize=(20, 4))\n",
        "\n",
        "for i in range(n):\n",
        "  ax = plt.subplot(2, n, i+1)\n",
        "  plt.imshow(x_test[i].reshape(28, 28))\n",
        "  plt.gray()\n",
        "  ax.get_xaxis().set_visible(False)\n",
        "  ax.get_yaxis().set_visible(False)\n",
        "\n",
        "  #Display reconstruction\n",
        "  ax = plt.subplot(2, n, i+1+n)\n",
        "  plt.imshow(reconstructed[i].reshape(28, 28))\n",
        "  plt.gray()\n",
        "  ax.get_xaxis().set_visible(False)\n",
        "  ax.get_yaxis().set_visible(False)\n",
        "\n",
        "plt.show()"
      ]
    },
    {
      "cell_type": "code",
      "execution_count": 16,
      "metadata": {
        "id": "Yz6_Ra3UhFBX"
      },
      "outputs": [],
      "source": [
        "for layer in autoencoder.layers[-4:]:\n",
        "  layer.trainable=True\n",
        "\n",
        "autoencoder.compile(optimizer='adam', loss='binary_crossentropy')\n",
        "\n",
        "autoencoder.fit(\n",
        "    x_train, x_train,\n",
        "    epochs=25,\n",
        "    batch_size=256,\n",
        "    shuffle=True,\n",
        "    validation_data=(x_test, x_test)\n",
        ")"
      ]
    },
    {
      "cell_type": "markdown",
      "source": [
        "**Experimenting Across Different Bottlenecks**"
      ],
      "metadata": {
        "id": "OHHjH4rzgL_z"
      }
    },
    {
      "cell_type": "code",
      "execution_count": 22,
      "metadata": {
        "id": "zpaWuoRw-W71"
      },
      "outputs": [],
      "source": [
        "import multiprocessing\n",
        "from tensorflow.keras import Model, Input, layers as L\n",
        "import tensorflow as tf\n",
        "\n",
        "# Define the training function\n",
        "def train_autoencoder(bottleneck_size):\n",
        "    input_layer = Input(shape=(784,))\n",
        "    encoder = L.Dense(64, activation='relu')(input_layer)\n",
        "    bottleneck = L.Dense(bottleneck_size, activation='relu')(encoder)\n",
        "\n",
        "    # Decoder\n",
        "    decoder = L.Dense(64, activation='relu')(bottleneck)\n",
        "    output_layer = L.Dense(784, activation='sigmoid')(decoder)\n",
        "\n",
        "    autoencoder = Model(input_layer, output_layer)\n",
        "\n",
        "    # Compile and fit the model\n",
        "    autoencoder.compile(optimizer='adam', loss='binary_crossentropy')\n",
        "    autoencoder.fit(\n",
        "        x_train, x_train,\n",
        "        epochs=50,\n",
        "        batch_size=256,\n",
        "        shuffle=True,\n",
        "        validation_data=(x_test, x_test)\n",
        "    )\n",
        "\n",
        "    return autoencoder\n",
        "\n",
        "# Bottleneck sizes to test\n",
        "bottleneck_sizes = [16, 32, 64]\n",
        "\n",
        "for bottleneck in bottleneck_sizes:\n",
        "      autoencoder = train_autoencoder(bottleneck)\n",
        "      loss = autoencoder.evaluate(x_test, x_test)\n",
        "      print(f\"Bottleneck size {bottleneck} - Test loss: {loss}\")\n"
      ]
    },
    {
      "cell_type": "markdown",
      "source": [
        "**Using Regularization**"
      ],
      "metadata": {
        "id": "LYAlDvsogSvj"
      }
    },
    {
      "cell_type": "code",
      "execution_count": 17,
      "metadata": {
        "id": "LFyXYbdgCOnT"
      },
      "outputs": [],
      "source": [
        "from tensorflow.keras.regularizers import L2\n",
        "from tensorflow import keras\n",
        "def train_autoencoder():\n",
        "    input_layer = Input(shape=(784,))\n",
        "    encoder = L.Dense(64,kernel_regularizer=L2(0.001),activation='relu')(input_layer)\n",
        "    bottleneck = L.Dense(32, kernel_regularizer=L2(0.001),activation='relu')(encoder)\n",
        "\n",
        "    # Decoder\n",
        "    decoder = L.Dense(64, kernel_regularizer=L2(0.001),activation='relu')(bottleneck)\n",
        "    output_layer = L.Dense(784, kernel_regularizer=L2(0.001),activation='sigmoid')(decoder)\n",
        "\n",
        "    autoencoder = Model(input_layer, output_layer)\n",
        "\n",
        "    # Compile and fit the model\n",
        "    autoencoder.compile(optimizer='adam', loss='binary_crossentropy')\n",
        "    autoencoder.fit(\n",
        "        x_train, x_train,\n",
        "        epochs=50,\n",
        "        batch_size=256,\n",
        "        shuffle=True,\n",
        "        validation_data=(x_test, x_test)\n",
        "    )\n",
        "\n",
        "    return autoencoder\n",
        "\n",
        "train_autoencoder()"
      ]
    }
  ],
  "metadata": {
    "colab": {
      "provenance": [],
      "authorship_tag": "ABX9TyMhEakOmaanP1R6HWt9Wkq/",
      "include_colab_link": true
    },
    "kernelspec": {
      "display_name": "Python 3",
      "name": "python3"
    },
    "language_info": {
      "name": "python"
    }
  },
  "nbformat": 4,
  "nbformat_minor": 0
}